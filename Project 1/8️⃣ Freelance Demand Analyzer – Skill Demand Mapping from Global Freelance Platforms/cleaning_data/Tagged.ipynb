{
 "cells": [
  {
   "cell_type": "code",
   "execution_count": 19,
   "id": "a91297f4-13ab-4e8e-a3c1-f8f975d28124",
   "metadata": {},
   "outputs": [],
   "source": [
    "import pandas as pd\n",
    "import re\n",
    "df = pd.read_csv('C:/Users/nithy/OneDrive/Desktop/cleaned_freelance_jobs.csv')"
   ]
  },
  {
   "cell_type": "code",
   "execution_count": 21,
   "id": "7be741c3-640a-4401-992b-b43e13b7505b",
   "metadata": {},
   "outputs": [],
   "source": [
    "def map_category(cat):\n",
    "    cat = str(cat).lower().strip()\n",
    "    if any(x in cat for x in ['design', 'photoshop', 'illustrator']):\n",
    "        return 'design'\n",
    "    elif any(x in cat for x in ['dev', 'js', 'python', 'code']):\n",
    "        return 'development'\n",
    "    elif any(x in cat for x in ['data', 'analysis', 'analytics']):\n",
    "        return 'data'\n",
    "    else:\n",
    "        return 'other'\n",
    "\n",
    "df['main_category'] = df['category'].apply(map_category) if 'category' in df.columns else 'other'"
   ]
  },
  {
   "cell_type": "code",
   "execution_count": 23,
   "id": "c67d79ad-9d09-48f0-a6eb-72dc8a6badbb",
   "metadata": {},
   "outputs": [],
   "source": [
    "df['skill_count'] = df['skills_required'].apply(lambda x: len(x.split(',')) if x else 0)\n",
    "\n",
    "def payout_tier(budget):\n",
    "    if budget < 100:\n",
    "        return 'Low'\n",
    "    elif 100 <= budget <= 500:\n",
    "        return 'Medium'\n",
    "    else:\n",
    "        return 'High'\n",
    "\n",
    "df['payout_tier'] = df['budget_usd'].apply(payout_tier)"
   ]
  },
  {
   "cell_type": "code",
   "execution_count": 27,
   "id": "9276586f-1028-4eea-9531-f9fdd6719a73",
   "metadata": {},
   "outputs": [
    {
     "name": "stdout",
     "output_type": "stream",
     "text": [
      "Data cleaned, tagged, and saved as 'tagged_jobs.csv'\n"
     ]
    }
   ],
   "source": [
    "df.to_csv('C:/Users/nithy/OneDrive/Desktop/Phase 2/Project 2/cleaning_data/tagged_jobs.csv', index=False)\n",
    "\n",
    "print(\"Data cleaned, tagged, and saved as 'tagged_jobs.csv'\")"
   ]
  },
  {
   "cell_type": "code",
   "execution_count": null,
   "id": "488607ef-9390-4595-a655-89fa6de8eec1",
   "metadata": {},
   "outputs": [],
   "source": []
  }
 ],
 "metadata": {
  "kernelspec": {
   "display_name": "Python 3 (ipykernel)",
   "language": "python",
   "name": "python3"
  },
  "language_info": {
   "codemirror_mode": {
    "name": "ipython",
    "version": 3
   },
   "file_extension": ".py",
   "mimetype": "text/x-python",
   "name": "python",
   "nbconvert_exporter": "python",
   "pygments_lexer": "ipython3",
   "version": "3.12.4"
  }
 },
 "nbformat": 4,
 "nbformat_minor": 5
}
