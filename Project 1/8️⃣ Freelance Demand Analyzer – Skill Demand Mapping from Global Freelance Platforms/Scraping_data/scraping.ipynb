{
 "cells": [
  {
   "cell_type": "code",
   "execution_count": 23,
   "id": "d15c6aef-6f81-4b67-b0ae-82b0e8170095",
   "metadata": {},
   "outputs": [],
   "source": [
    "import requests, re, time, logging\n",
    "from bs4 import BeautifulSoup\n",
    "import pandas as pd"
   ]
  },
  {
   "cell_type": "code",
   "execution_count": 17,
   "id": "d1e54fd7-b180-4f71-8389-932326e9ecb1",
   "metadata": {},
   "outputs": [],
   "source": [
    "def scrape_freelancer_jobs(max_jobs: int = 350,throttle: float = 1.0,verbose: bool = True) -> pd.DataFrame:\n",
    "    \"\"\"\n",
    "    Scrape recent job listings from Freelancer.com public pages.\n",
    "    Parameters\n",
    "    ----------\n",
    "    max_jobs : int\n",
    "        Target number of rows (default 350).\n",
    "    throttle : float\n",
    "        Seconds to sleep between page requests (default 1.0).\n",
    "    verbose : bool\n",
    "        Print progress to stdout.\n",
    "    Returns\n",
    "    -------\n",
    "    pd.DataFrame\n",
    "        Tidy dataframe matching your schema.\n",
    "    \"\"\"\n",
    "    FX = {\"USD\": 1.0, \"INR\": 0.012, \"EUR\": 1.08, \"GBP\": 1.27,\n",
    "          \"$\": 1.0, \"₹\": 0.012, \"€\": 1.08, \"£\": 1.27}\n",
    "    def _budget_to_usd(text: str) -> float:\n",
    "        \"\"\"Extract upper numeric bound and convert to USD.\"\"\"\n",
    "        nums = re.findall(r\"[\\d,]+(?:\\.\\d+)?\", text.replace(\",\", \"\"))\n",
    "        if not nums:\n",
    "            return 0.0\n",
    "        hi = float(nums[-1])\n",
    "        cur = re.search(r\"[$₹€£]|USD|INR|EUR|GBP\", text.upper())\n",
    "        rate = FX.get(cur.group(0), 1.0) if cur else 1.0\n",
    "        return round(hi * rate, 2)\n",
    "    headers = {\"User-Agent\": \"Mozilla/5.0\"}\n",
    "    jobs, page = [], 1\n",
    "    while len(jobs) < max_jobs:\n",
    "        url = f\"https://www.freelancer.com/jobs/{page}\"\n",
    "        r = requests.get(url, headers=headers, timeout=15)\n",
    "        soup = BeautifulSoup(r.text, \"html.parser\")\n",
    "        cards = soup.select(\"div.JobSearchCard-item\")\n",
    "        if verbose:\n",
    "            print(f\"[page {page}] cards found: {len(cards)} \"\n",
    "                  f\"(total collected: {len(jobs)})\")\n",
    "        if not cards:\n",
    "            logging.warning(\"No cards returned – stopping early.\")\n",
    "            break\n",
    "        for div in cards:\n",
    "            if len(jobs) >= max_jobs:\n",
    "                break \n",
    "            try:\n",
    "                title_tag = div.select_one(\"a.JobSearchCard-primary-heading-link\")\n",
    "                title = title_tag.text.strip()\n",
    "                link = \"https://www.freelancer.com\" + title_tag[\"href\"]\n",
    "                desc = div.select_one(\"p.JobSearchCard-primary-description\").text.strip()\n",
    "                skills = [s.text for s in div.select(\"a.JobSearchCard-primary-tagsLink\")]\n",
    "                price_raw = div.select_one(\"div.JobSearchCard-secondary-price\").text.strip()\n",
    "                budget_val = _budget_to_usd(price_raw)\n",
    "                job_type = \"Hourly\" if \"hour\" in price_raw.lower() else \"Fixed\"\n",
    "                jobs.append({\n",
    "                    \"platform\": \"Freelancer.com\",\n",
    "                    \"job_title\": title,\n",
    "                    \"category\": \"Mixed\",\n",
    "                    \"skills_required\": \", \".join(skills),\n",
    "                    \"job_type\": job_type,\n",
    "                    \"budget_usd\": budget_val,\n",
    "                    \"location_preference\": \"Worldwide\",\n",
    "                    \"duration_estimate\": \"Short-term\",\n",
    "                    \"url\": link\n",
    "                })\n",
    "            except Exception as exc:\n",
    "                logging.error(f\"❌ parse error on page {page}: {exc}\")\n",
    "                continue\n",
    "        page += 1\n",
    "        time.sleep(throttle)\n",
    "    df = pd.DataFrame(jobs[:max_jobs])  \n",
    "    if verbose:\n",
    "        print(f\"✅ finished with {len(df)} rows\")\n",
    "    return df"
   ]
  },
  {
   "cell_type": "code",
   "execution_count": 21,
   "id": "34ff5016-0923-40e7-9f2f-79e8ca22ef11",
   "metadata": {},
   "outputs": [
    {
     "name": "stderr",
     "output_type": "stream",
     "text": [
      "ERROR:root:❌ parse error on page 1: 'NoneType' object has no attribute 'text'\n"
     ]
    },
    {
     "name": "stdout",
     "output_type": "stream",
     "text": [
      "[page 1] cards found: 50 (total collected: 0)\n",
      "[page 2] cards found: 50 (total collected: 49)\n",
      "[page 3] cards found: 50 (total collected: 99)\n",
      "[page 4] cards found: 50 (total collected: 149)\n"
     ]
    },
    {
     "name": "stderr",
     "output_type": "stream",
     "text": [
      "ERROR:root:❌ parse error on page 5: 'NoneType' object has no attribute 'text'\n",
      "ERROR:root:❌ parse error on page 5: 'NoneType' object has no attribute 'text'\n"
     ]
    },
    {
     "name": "stdout",
     "output_type": "stream",
     "text": [
      "[page 5] cards found: 50 (total collected: 199)\n"
     ]
    },
    {
     "name": "stderr",
     "output_type": "stream",
     "text": [
      "ERROR:root:❌ parse error on page 6: 'NoneType' object has no attribute 'text'\n"
     ]
    },
    {
     "name": "stdout",
     "output_type": "stream",
     "text": [
      "[page 6] cards found: 50 (total collected: 247)\n"
     ]
    },
    {
     "name": "stderr",
     "output_type": "stream",
     "text": [
      "ERROR:root:❌ parse error on page 7: 'NoneType' object has no attribute 'text'\n"
     ]
    },
    {
     "name": "stdout",
     "output_type": "stream",
     "text": [
      "[page 7] cards found: 50 (total collected: 296)\n",
      "[page 8] cards found: 50 (total collected: 345)\n",
      "✅ finished with 350 rows\n"
     ]
    }
   ],
   "source": [
    "df_freelancer = scrape_freelancer_jobs(max_jobs=350)\n",
    "df_freelancer.to_csv(\"scraped_data.csv\", index=False)"
   ]
  },
  {
   "cell_type": "code",
   "execution_count": null,
   "id": "840fba49-5a41-492b-bc19-3e667b05a6ca",
   "metadata": {},
   "outputs": [],
   "source": []
  }
 ],
 "metadata": {
  "kernelspec": {
   "display_name": "Python 3 (ipykernel)",
   "language": "python",
   "name": "python3"
  },
  "language_info": {
   "codemirror_mode": {
    "name": "ipython",
    "version": 3
   },
   "file_extension": ".py",
   "mimetype": "text/x-python",
   "name": "python",
   "nbconvert_exporter": "python",
   "pygments_lexer": "ipython3",
   "version": "3.12.4"
  }
 },
 "nbformat": 4,
 "nbformat_minor": 5
}
