{
 "cells": [
  {
   "cell_type": "code",
   "execution_count": 1,
   "id": "e858f0ec-8be4-482c-bd8e-0ef5192a83d9",
   "metadata": {},
   "outputs": [
    {
     "name": "stdout",
     "output_type": "stream",
     "text": [
      "Collecting praw\n",
      "  Downloading praw-7.8.1-py3-none-any.whl.metadata (9.4 kB)\n",
      "Requirement already satisfied: pandas in c:\\users\\nithy\\anaconda3\\lib\\site-packages (2.2.2)\n",
      "Requirement already satisfied: numpy in c:\\users\\nithy\\appdata\\roaming\\python\\python312\\site-packages (1.26.4)\n",
      "Requirement already satisfied: matplotlib in c:\\users\\nithy\\appdata\\roaming\\python\\python312\\site-packages (3.9.1)\n",
      "Requirement already satisfied: seaborn in c:\\users\\nithy\\anaconda3\\lib\\site-packages (0.13.2)\n",
      "Requirement already satisfied: wordcloud in c:\\users\\nithy\\anaconda3\\lib\\site-packages (1.9.4)\n",
      "Collecting prawcore<3,>=2.4 (from praw)\n",
      "  Downloading prawcore-2.4.0-py3-none-any.whl.metadata (5.0 kB)\n",
      "Collecting update_checker>=0.18 (from praw)\n",
      "  Downloading update_checker-0.18.0-py3-none-any.whl.metadata (2.3 kB)\n",
      "Requirement already satisfied: websocket-client>=0.54.0 in c:\\users\\nithy\\anaconda3\\lib\\site-packages (from praw) (1.8.0)\n",
      "Requirement already satisfied: python-dateutil>=2.8.2 in c:\\users\\nithy\\appdata\\roaming\\python\\python312\\site-packages (from pandas) (2.8.2)\n",
      "Requirement already satisfied: pytz>=2020.1 in c:\\users\\nithy\\anaconda3\\lib\\site-packages (from pandas) (2024.1)\n",
      "Requirement already satisfied: tzdata>=2022.7 in c:\\users\\nithy\\anaconda3\\lib\\site-packages (from pandas) (2023.3)\n",
      "Requirement already satisfied: contourpy>=1.0.1 in c:\\users\\nithy\\appdata\\roaming\\python\\python312\\site-packages (from matplotlib) (1.2.1)\n",
      "Requirement already satisfied: cycler>=0.10 in c:\\users\\nithy\\appdata\\roaming\\python\\python312\\site-packages (from matplotlib) (0.12.1)\n",
      "Requirement already satisfied: fonttools>=4.22.0 in c:\\users\\nithy\\appdata\\roaming\\python\\python312\\site-packages (from matplotlib) (4.53.1)\n",
      "Requirement already satisfied: kiwisolver>=1.3.1 in c:\\users\\nithy\\appdata\\roaming\\python\\python312\\site-packages (from matplotlib) (1.4.5)\n",
      "Requirement already satisfied: packaging>=20.0 in c:\\users\\nithy\\appdata\\roaming\\python\\python312\\site-packages (from matplotlib) (23.2)\n",
      "Requirement already satisfied: pillow>=8 in c:\\users\\nithy\\anaconda3\\lib\\site-packages (from matplotlib) (9.5.0)\n",
      "Requirement already satisfied: pyparsing>=2.3.1 in c:\\users\\nithy\\appdata\\roaming\\python\\python312\\site-packages (from matplotlib) (3.1.2)\n",
      "Requirement already satisfied: requests<3.0,>=2.6.0 in c:\\users\\nithy\\appdata\\roaming\\python\\python312\\site-packages (from prawcore<3,>=2.4->praw) (2.31.0)\n",
      "Requirement already satisfied: six>=1.5 in c:\\users\\nithy\\appdata\\roaming\\python\\python312\\site-packages (from python-dateutil>=2.8.2->pandas) (1.16.0)\n",
      "Requirement already satisfied: charset-normalizer<4,>=2 in c:\\users\\nithy\\appdata\\roaming\\python\\python312\\site-packages (from requests<3.0,>=2.6.0->prawcore<3,>=2.4->praw) (3.3.2)\n",
      "Requirement already satisfied: idna<4,>=2.5 in c:\\users\\nithy\\appdata\\roaming\\python\\python312\\site-packages (from requests<3.0,>=2.6.0->prawcore<3,>=2.4->praw) (3.6)\n",
      "Requirement already satisfied: urllib3<3,>=1.21.1 in c:\\users\\nithy\\appdata\\roaming\\python\\python312\\site-packages (from requests<3.0,>=2.6.0->prawcore<3,>=2.4->praw) (2.1.0)\n",
      "Requirement already satisfied: certifi>=2017.4.17 in c:\\users\\nithy\\appdata\\roaming\\python\\python312\\site-packages (from requests<3.0,>=2.6.0->prawcore<3,>=2.4->praw) (2023.11.17)\n",
      "Downloading praw-7.8.1-py3-none-any.whl (189 kB)\n",
      "Downloading prawcore-2.4.0-py3-none-any.whl (17 kB)\n",
      "Downloading update_checker-0.18.0-py3-none-any.whl (7.0 kB)\n",
      "Installing collected packages: update_checker, prawcore, praw\n",
      "Successfully installed praw-7.8.1 prawcore-2.4.0 update_checker-0.18.0\n"
     ]
    },
    {
     "name": "stderr",
     "output_type": "stream",
     "text": [
      "\n",
      "[notice] A new release of pip is available: 25.0.1 -> 25.1.1\n",
      "[notice] To update, run: python.exe -m pip install --upgrade pip\n"
     ]
    }
   ],
   "source": [
    "!pip install praw pandas numpy matplotlib seaborn wordcloud"
   ]
  },
  {
   "cell_type": "code",
   "execution_count": 3,
   "id": "6a9d7d0f-188c-4c15-8683-af8010705bc6",
   "metadata": {},
   "outputs": [],
   "source": [
    "import praw                            \n",
    "import pandas as pd                   \n",
    "import numpy as np                    \n",
    "import re                             \n",
    "from datetime import datetime         \n",
    "import matplotlib.pyplot as plt\n",
    "import seaborn as sns\n",
    "from wordcloud import WordCloud"
   ]
  },
  {
   "cell_type": "code",
   "execution_count": 4,
   "id": "4ffdaa02-0fc8-480b-b12e-062b4024e2a1",
   "metadata": {},
   "outputs": [],
   "source": [
    "reddit = praw.Reddit(\n",
    "    client_id='XZA3AFk0x1kwxmZ2KRxhgA',        \n",
    "    client_secret='kpYju9Zw62dW4fDB_U5v2SvqSLEbHw',           \n",
    "    user_agent='reddit_intent_engine'\n",
    ")"
   ]
  },
  {
   "cell_type": "code",
   "execution_count": 11,
   "id": "341d44df-8887-4669-8b4e-d28e5ab2e7c3",
   "metadata": {},
   "outputs": [
    {
     "name": "stdout",
     "output_type": "stream",
     "text": [
      "Scraping from r/Productivity\n"
     ]
    },
    {
     "name": "stderr",
     "output_type": "stream",
     "text": [
      "C:\\Users\\nithy\\AppData\\Local\\Temp\\ipykernel_3444\\4263905737.py:12: DeprecationWarning: datetime.datetime.utcfromtimestamp() is deprecated and scheduled for removal in a future version. Use timezone-aware objects to represent datetimes in UTC: datetime.datetime.fromtimestamp(timestamp, datetime.UTC).\n",
      "  'created_at': datetime.utcfromtimestamp(post.created_utc),\n"
     ]
    },
    {
     "name": "stdout",
     "output_type": "stream",
     "text": [
      "Scraping from r/Notion\n",
      "Scraping from r/Freelance\n",
      "Posts saved to subreddit_scraped_posts.csv\n"
     ]
    }
   ],
   "source": [
    "subreddits = ['Productivity', 'Notion', 'Freelance']\n",
    "all_posts = []\n",
    "for sub in subreddits:\n",
    "    print(f\"Scraping from r/{sub}\")\n",
    "    for post in reddit.subreddit(sub).hot(limit=100):\n",
    "        all_posts.append({\n",
    "            'username': str(post.author),\n",
    "            'subreddit': sub,\n",
    "            'post_title': post.title,\n",
    "            'post_link': f\"https://www.reddit.com{post.permalink}\",\n",
    "            'created_at': datetime.utcfromtimestamp(post.created_utc),\n",
    "            'text': post.selftext\n",
    "        })\n",
    "df = pd.DataFrame(all_posts)\n",
    "df.head()\n",
    "df.to_csv('subreddit_scraped_posts.csv', index=False)\n",
    "print(\"Posts saved to subreddit_scraped_posts.csv\")"
   ]
  },
  {
   "cell_type": "code",
   "execution_count": 6,
   "id": "78d3d876-1eff-4ecb-b892-17d6f6103063",
   "metadata": {},
   "outputs": [
    {
     "name": "stderr",
     "output_type": "stream",
     "text": [
      "C:\\Users\\nithy\\AppData\\Local\\Temp\\ipykernel_640\\4182238551.py:12: DeprecationWarning: datetime.datetime.utcfromtimestamp() is deprecated and scheduled for removal in a future version. Use timezone-aware objects to represent datetimes in UTC: datetime.datetime.fromtimestamp(timestamp, datetime.UTC).\n",
      "  'created_at': datetime.utcfromtimestamp(post.created_utc)\n"
     ]
    },
    {
     "name": "stdout",
     "output_type": "stream",
     "text": [
      "(510, 6)\n",
      "Posts saved to reddit_scraped_posts.csv\n"
     ]
    }
   ],
   "source": [
    "subreddits = ['Productivity', 'Notion', 'Entrepreneur']\n",
    "all_posts = []\n",
    "for subreddit_name in subreddits:\n",
    "    subreddit = reddit.subreddit(subreddit_name)\n",
    "    for post in subreddit.hot(limit=170):  # 170 x 3 ≈ 510 posts\n",
    "        all_posts.append({\n",
    "            'subreddit': subreddit_name,\n",
    "            'username': str(post.author),\n",
    "            'post_title': post.title,\n",
    "            'post_text': post.selftext,\n",
    "            'post_url': f\"https://www.reddit.com{post.permalink}\",\n",
    "            'created_at': datetime.utcfromtimestamp(post.created_utc)\n",
    "        })\n",
    "df = pd.DataFrame(all_posts)\n",
    "print(df.shape)\n",
    "df.head()\n",
    "df.to_csv('reddit_scraped_posts.csv', index=False)\n",
    "print(\"Posts saved to reddit_scraped_posts.csv\")"
   ]
  },
  {
   "cell_type": "code",
   "execution_count": null,
   "id": "2d8a5132-63a8-4c5a-9995-b17a7752a904",
   "metadata": {},
   "outputs": [],
   "source": []
  }
 ],
 "metadata": {
  "kernelspec": {
   "display_name": "Python 3 (ipykernel)",
   "language": "python",
   "name": "python3"
  },
  "language_info": {
   "codemirror_mode": {
    "name": "ipython",
    "version": 3
   },
   "file_extension": ".py",
   "mimetype": "text/x-python",
   "name": "python",
   "nbconvert_exporter": "python",
   "pygments_lexer": "ipython3",
   "version": "3.12.4"
  }
 },
 "nbformat": 4,
 "nbformat_minor": 5
}
